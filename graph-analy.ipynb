{
 "metadata": {
  "language_info": {
   "codemirror_mode": {
    "name": "ipython",
    "version": 3
   },
   "file_extension": ".py",
   "mimetype": "text/x-python",
   "name": "python",
   "nbconvert_exporter": "python",
   "pygments_lexer": "ipython3",
   "version": "3.7.10"
  },
  "orig_nbformat": 2,
  "kernelspec": {
   "name": "python3710jvsc74a57bd06ba75201ffc980e63fafb5fcc34cd5fa109d6a791497ca89853d5cb86fd40001",
   "display_name": "Python 3.7.10 64-bit ('ssac': conda)"
  }
 },
 "nbformat": 4,
 "nbformat_minor": 2,
 "cells": [
  {
   "cell_type": "code",
   "execution_count": 32,
   "metadata": {},
   "outputs": [],
   "source": [
    "import pandas as pd \n",
    "import matplotlib.pyplot as plt\n",
    "from matplotlib import font_manager, rc\n",
    "import seaborn as sns"
   ]
  },
  {
   "cell_type": "code",
   "execution_count": 31,
   "metadata": {},
   "outputs": [],
   "source": [
    "wt_list=['금요일-고래별', '금요일-외모지상주의', '목요일-롤랑롤랑', '목요일-연애혁명', '수요일-고수', '수요일-귀곡의문', '월요일-뷰티풀군바리', '월요일-유일무이로맨스', '일요일-싸움독학', '일요일-이번생도잘부탁해', '토요일-어글리후드', '토요일-호랑이형님', '화요일-숲속의담', '화요일-여신강림']"
   ]
  },
  {
   "cell_type": "code",
   "execution_count": null,
   "metadata": {},
   "outputs": [],
   "source": [
    "for j in wt_list: \n",
    "    df = pd.read_csv('정식웹툰/{}.csv'.format(j))\n",
    "    person = []\n",
    "    comments = []\n",
    "    weeks = []\n",
    "    for i in range(len(df)):\n",
    "        person.append(df['참여자수'][i])\n",
    "        comments.append(df['댓글수'][i])\n",
    "        weeks.append(str(i+1)+'주차')\n",
    "    person.reverse()\n",
    "    comments.reverse()\n",
    "\n",
    "    font_path = \"C:/Windows/Fonts/NGULIM.TTF\"\n",
    "    font = font_manager.FontProperties(fname=font_path).get_name()\n",
    "    rc('font', family=font)\n",
    "    plt.figure(figsize=(20,10))\n",
    "    plt.plot(weeks, person, marker='o')\n",
    "    plt.plot(weeks, comments, marker='o')\n",
    "    plt.legend(['별점부여 참여자수', '댓글수'])\n",
    "    plt.xlabel('Time of week')\n",
    "    plt.ylabel('숫자')\n",
    "    plt.title('{}'.format(j))\n",
    "    plt.savefig('{}.png'.format(j))\n",
    "    # 화면에 그래프를 보여줍니다\n",
    "    plt.show()"
   ]
  },
  {
   "cell_type": "code",
   "execution_count": 41,
   "metadata": {},
   "outputs": [
    {
     "output_type": "stream",
     "name": "stdout",
     "text": [
      "금요일-고래별\n          참여자수       댓글수\n참여자수  1.000000 -0.255884\n댓글수  -0.255884  1.000000\n금요일-외모지상주의\n          참여자수       댓글수\n참여자수  1.000000  0.647289\n댓글수   0.647289  1.000000\n목요일-롤랑롤랑\n          참여자수       댓글수\n참여자수  1.000000  0.756082\n댓글수   0.756082  1.000000\n목요일-연애혁명\n          참여자수       댓글수\n참여자수  1.000000  0.619222\n댓글수   0.619222  1.000000\n수요일-고수\n          참여자수       댓글수\n참여자수  1.000000  0.630858\n댓글수   0.630858  1.000000\n수요일-귀곡의문\n          참여자수       댓글수\n참여자수  1.000000  0.874628\n댓글수   0.874628  1.000000\n월요일-뷰티풀군바리\n          참여자수       댓글수\n참여자수  1.000000  0.684371\n댓글수   0.684371  1.000000\n월요일-유일무이로맨스\n          참여자수       댓글수\n참여자수  1.000000  0.682045\n댓글수   0.682045  1.000000\n일요일-싸움독학\n          참여자수       댓글수\n참여자수  1.000000  0.372187\n댓글수   0.372187  1.000000\n일요일-이번생도잘부탁해\n          참여자수       댓글수\n참여자수  1.000000  0.465996\n댓글수   0.465996  1.000000\n토요일-어글리후드\n          참여자수       댓글수\n참여자수  1.000000  0.694445\n댓글수   0.694445  1.000000\n토요일-호랑이형님\n          참여자수       댓글수\n참여자수  1.000000  0.556046\n댓글수   0.556046  1.000000\n화요일-숲속의담\n          참여자수       댓글수\n참여자수  1.000000  0.657894\n댓글수   0.657894  1.000000\n화요일-여신강림\n          참여자수       댓글수\n참여자수  1.000000  0.388237\n댓글수   0.388237  1.000000\n"
     ]
    }
   ],
   "source": [
    "# 상관계수 분석\n",
    "for j in wt_list:\n",
    "    print(j)\n",
    "    df = pd.read_csv('정식웹툰/{}.csv'.format(j))\n",
    "    df.drop(columns='댓글', axis=1, inplace=True)\n",
    "    corr = df.corr(method = 'pearson')\n",
    "    print(corr)\n",
    "# 결과 0.55~0.87 정도의 상관계수가 나오는데 이것들의 제곱 0.3025~0.7569 별점 참여자수 의 분산 중 50%를 댓글 수와 공유 또는 댓글 수의 분산 중 50%가 별점 참여자수로 설명됨"
   ]
  },
  {
   "cell_type": "code",
   "execution_count": null,
   "metadata": {},
   "outputs": [],
   "source": []
  }
 ]
}
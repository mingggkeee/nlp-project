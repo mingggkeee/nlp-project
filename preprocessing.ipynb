{
 "metadata": {
  "language_info": {
   "codemirror_mode": {
    "name": "ipython",
    "version": 3
   },
   "file_extension": ".py",
   "mimetype": "text/x-python",
   "name": "python",
   "nbconvert_exporter": "python",
   "pygments_lexer": "ipython3",
   "version": "3.7.9"
  },
  "orig_nbformat": 2,
  "kernelspec": {
   "name": "python379jvsc74a57bd0e3e6299cafd859ebd092853d2ce219882ca666ebac67599b06b83cea9da9c5fd",
   "display_name": "Python 3.7.9 64-bit (conda)"
  }
 },
 "nbformat": 4,
 "nbformat_minor": 2,
 "cells": [
  {
   "cell_type": "code",
   "execution_count": 1,
   "metadata": {},
   "outputs": [],
   "source": [
    "import pandas as pd"
   ]
  },
  {
   "cell_type": "code",
   "execution_count": 45,
   "metadata": {},
   "outputs": [],
   "source": [
    "wt_df = pd.read_csv('NaverWebtoon.csv', encoding='cp949')"
   ]
  },
  {
   "cell_type": "code",
   "execution_count": 46,
   "metadata": {},
   "outputs": [],
   "source": [
    "wt_rating_df = wt_df.sort_values(by=['rating', 'rank'], axis=0, ascending=[False, True])"
   ]
  },
  {
   "cell_type": "code",
   "execution_count": 47,
   "metadata": {},
   "outputs": [
    {
     "output_type": "execute_result",
     "data": {
      "text/plain": [
       "     rank     title           artist     summary  rating  comments\n",
       "9      10    싱글맘맘이야          gimarie  싱글맘의 생생 실화    9.92       506\n",
       "0       1      여우자매       rkddusl999     구미호 이야기    9.90      5012\n",
       "1       2  대학원 탈출일지          ari9402  대학원에서 살아남기    9.90       918\n",
       "3       4  오사와 오폐수들      oreo_hunter   그냥 오사의 일상    9.90       742\n",
       "5       6   저승파견고용직        skuldness  기묘한 러브액션로망    9.90      1027\n",
       "..    ...       ...              ...         ...     ...       ...\n",
       "57     58      미신반신          raju_54   착하게미친남주예요    9.10       273\n",
       "8       9    의대생 하루         leeclown  의대생의 리얼 일상    9.05       848\n",
       "40     41      하나리즈  hanalizofficial  레즈비언 커플이야기    8.88       501\n",
       "119   120       식봉툰        rrrr33333    일상적인 이야기    8.81       332\n",
       "134   135      국밥소녀           isw339   국밥에 미친 소녀    8.55       543\n",
       "\n",
       "[144 rows x 6 columns]"
      ],
      "text/html": "<div>\n<style scoped>\n    .dataframe tbody tr th:only-of-type {\n        vertical-align: middle;\n    }\n\n    .dataframe tbody tr th {\n        vertical-align: top;\n    }\n\n    .dataframe thead th {\n        text-align: right;\n    }\n</style>\n<table border=\"1\" class=\"dataframe\">\n  <thead>\n    <tr style=\"text-align: right;\">\n      <th></th>\n      <th>rank</th>\n      <th>title</th>\n      <th>artist</th>\n      <th>summary</th>\n      <th>rating</th>\n      <th>comments</th>\n    </tr>\n  </thead>\n  <tbody>\n    <tr>\n      <th>9</th>\n      <td>10</td>\n      <td>싱글맘맘이야</td>\n      <td>gimarie</td>\n      <td>싱글맘의 생생 실화</td>\n      <td>9.92</td>\n      <td>506</td>\n    </tr>\n    <tr>\n      <th>0</th>\n      <td>1</td>\n      <td>여우자매</td>\n      <td>rkddusl999</td>\n      <td>구미호 이야기</td>\n      <td>9.90</td>\n      <td>5012</td>\n    </tr>\n    <tr>\n      <th>1</th>\n      <td>2</td>\n      <td>대학원 탈출일지</td>\n      <td>ari9402</td>\n      <td>대학원에서 살아남기</td>\n      <td>9.90</td>\n      <td>918</td>\n    </tr>\n    <tr>\n      <th>3</th>\n      <td>4</td>\n      <td>오사와 오폐수들</td>\n      <td>oreo_hunter</td>\n      <td>그냥 오사의 일상</td>\n      <td>9.90</td>\n      <td>742</td>\n    </tr>\n    <tr>\n      <th>5</th>\n      <td>6</td>\n      <td>저승파견고용직</td>\n      <td>skuldness</td>\n      <td>기묘한 러브액션로망</td>\n      <td>9.90</td>\n      <td>1027</td>\n    </tr>\n    <tr>\n      <th>...</th>\n      <td>...</td>\n      <td>...</td>\n      <td>...</td>\n      <td>...</td>\n      <td>...</td>\n      <td>...</td>\n    </tr>\n    <tr>\n      <th>57</th>\n      <td>58</td>\n      <td>미신반신</td>\n      <td>raju_54</td>\n      <td>착하게미친남주예요</td>\n      <td>9.10</td>\n      <td>273</td>\n    </tr>\n    <tr>\n      <th>8</th>\n      <td>9</td>\n      <td>의대생 하루</td>\n      <td>leeclown</td>\n      <td>의대생의 리얼 일상</td>\n      <td>9.05</td>\n      <td>848</td>\n    </tr>\n    <tr>\n      <th>40</th>\n      <td>41</td>\n      <td>하나리즈</td>\n      <td>hanalizofficial</td>\n      <td>레즈비언 커플이야기</td>\n      <td>8.88</td>\n      <td>501</td>\n    </tr>\n    <tr>\n      <th>119</th>\n      <td>120</td>\n      <td>식봉툰</td>\n      <td>rrrr33333</td>\n      <td>일상적인 이야기</td>\n      <td>8.81</td>\n      <td>332</td>\n    </tr>\n    <tr>\n      <th>134</th>\n      <td>135</td>\n      <td>국밥소녀</td>\n      <td>isw339</td>\n      <td>국밥에 미친 소녀</td>\n      <td>8.55</td>\n      <td>543</td>\n    </tr>\n  </tbody>\n</table>\n<p>144 rows × 6 columns</p>\n</div>"
     },
     "metadata": {},
     "execution_count": 47
    }
   ],
   "source": [
    "wt_rating_df"
   ]
  },
  {
   "cell_type": "code",
   "execution_count": 48,
   "metadata": {},
   "outputs": [],
   "source": [
    "wt_rating1st_df = wt_rating_df.iloc[0:42]\n",
    "wt_rating2nd_df = wt_rating_df.iloc[42:93]\n",
    "wt_rating3rd_df = wt_rating_df.iloc[93:144]"
   ]
  },
  {
   "cell_type": "code",
   "execution_count": 49,
   "metadata": {},
   "outputs": [
    {
     "output_type": "stream",
     "name": "stdout",
     "text": [
      "<class 'pandas.core.frame.DataFrame'>\nInt64Index: 42 entries, 9 to 141\nData columns (total 6 columns):\n #   Column    Non-Null Count  Dtype  \n---  ------    --------------  -----  \n 0   rank      42 non-null     int64  \n 1   title     42 non-null     object \n 2   artist    42 non-null     object \n 3   summary   42 non-null     object \n 4   rating    42 non-null     float64\n 5   comments  42 non-null     int64  \ndtypes: float64(1), int64(2), object(3)\nmemory usage: 2.3+ KB\n<class 'pandas.core.frame.DataFrame'>\nInt64Index: 51 entries, 10 to 112\nData columns (total 6 columns):\n #   Column    Non-Null Count  Dtype  \n---  ------    --------------  -----  \n 0   rank      51 non-null     int64  \n 1   title     51 non-null     object \n 2   artist    51 non-null     object \n 3   summary   51 non-null     object \n 4   rating    51 non-null     float64\n 5   comments  51 non-null     int64  \ndtypes: float64(1), int64(2), object(3)\nmemory usage: 2.8+ KB\n<class 'pandas.core.frame.DataFrame'>\nInt64Index: 51 entries, 124 to 134\nData columns (total 6 columns):\n #   Column    Non-Null Count  Dtype  \n---  ------    --------------  -----  \n 0   rank      51 non-null     int64  \n 1   title     51 non-null     object \n 2   artist    51 non-null     object \n 3   summary   51 non-null     object \n 4   rating    51 non-null     float64\n 5   comments  51 non-null     int64  \ndtypes: float64(1), int64(2), object(3)\nmemory usage: 2.8+ KB\n"
     ]
    },
    {
     "output_type": "execute_result",
     "data": {
      "text/plain": [
       "(None, None, None)"
      ]
     },
     "metadata": {},
     "execution_count": 49
    }
   ],
   "source": [
    "wt_rating1st_df.info(), wt_rating2nd_df.info(), wt_rating3rd_df.info()"
   ]
  },
  {
   "cell_type": "code",
   "execution_count": 50,
   "metadata": {},
   "outputs": [],
   "source": [
    "wt_rating1st_df.to_csv('1st.csv', index=False, encoding='utf-8-sig')\n",
    "wt_rating2nd_df.to_csv('2nd.csv', index=False, encoding='utf-8-sig')\n",
    "wt_rating3rd_df.to_csv('3rd.csv', index=False, encoding='utf-8-sig')"
   ]
  },
  {
   "cell_type": "code",
   "execution_count": 52,
   "metadata": {},
   "outputs": [
    {
     "output_type": "stream",
     "name": "stdout",
     "text": [
      "847.6428571428571\n620.7450980392157\n539.3529411764706\n"
     ]
    }
   ],
   "source": [
    "print(wt_rating1st_df['comments'].mean())\n",
    "print(wt_rating2nd_df['comments'].mean())\n",
    "print(wt_rating3rd_df['comments'].mean())"
   ]
  },
  {
   "cell_type": "code",
   "execution_count": 51,
   "metadata": {},
   "outputs": [
    {
     "output_type": "stream",
     "name": "stdout",
     "text": [
      "<class 'pandas.core.frame.DataFrame'>\n",
      "RangeIndex: 5012 entries, 0 to 5011\n",
      "Data columns (total 24 columns):\n",
      " #   Column           Non-Null Count  Dtype \n",
      "---  ------           --------------  ----- \n",
      " 0   여우자매             5012 non-null   object\n",
      " 1   대학원 탈출일지         918 non-null    object\n",
      " 2   과학고 생존일지         556 non-null    object\n",
      " 3   오사와 오폐수들         742 non-null    object\n",
      " 4   여기서 한잔할래?        493 non-null    object\n",
      " 5   저승파견고용직          1027 non-null   object\n",
      " 6   우리 카페 사장님이 이상하다  235 non-null    object\n",
      " 7   좀비 패밀리           473 non-null    object\n",
      " 8   의대생 하루           848 non-null    object\n",
      " 9   싱글맘맘이야           506 non-null    object\n",
      " 10  서폿저택에 어서오세요      506 non-null    object\n",
      " 11  괜찮아, 고3이야        1590 non-null   object\n",
      " 12  양송부부의 맛있는 한잔     646 non-null    object\n",
      " 13  행복을 만드는 방법       237 non-null    object\n",
      " 14  살인교사             481 non-null    object\n",
      " 15  위닝샷!             821 non-null    object\n",
      " 16  밤을 거둔 신기루는       400 non-null    object\n",
      " 17  느린한끼             265 non-null    object\n",
      " 18  아스테리스크           810 non-null    object\n",
      " 19  우리집 강아지는 복슬강아지   414 non-null    object\n",
      " 20  지극히 평범한 생활       202 non-null    object\n",
      " 21  아오링도쿄            479 non-null    object\n",
      " 22  아빠는 N살           255 non-null    object\n",
      " 23  이과지옥             696 non-null    object\n",
      "dtypes: object(24)\n",
      "memory usage: 939.9+ KB\n",
      "None\n",
      "<class 'pandas.core.frame.DataFrame'>\n",
      "RangeIndex: 2480 entries, 0 to 2479\n",
      "Data columns (total 24 columns):\n",
      " #   Column           Non-Null Count  Dtype \n",
      "---  ------           --------------  ----- \n",
      " 0   생각보다 잘 자랐습니다     359 non-null    object\n",
      " 1   하루의 하늘           723 non-null    object\n",
      " 2   몬스터 커맨더F         1039 non-null   object\n",
      " 3   집순이에 대하여         632 non-null    object\n",
      " 4   판타지 TV           1194 non-null   object\n",
      " 5   런어웨이             991 non-null    object\n",
      " 6   하이스쿨 콤플렉스(마이동풍)  657 non-null    object\n",
      " 7   직업 : 며느리         466 non-null    object\n",
      " 8   나타나주세요!          1929 non-null   object\n",
      " 9   대공녀는 거기에 없었다     908 non-null    object\n",
      " 10  생존일지             603 non-null    object\n",
      " 11  포로롱 포롱           146 non-null    object\n",
      " 12  오늘도 그래고래         1037 non-null   object\n",
      " 13  수영만화일기           736 non-null    object\n",
      " 14  나부활              708 non-null    object\n",
      " 15  내 룸메이트는 마네킹      2480 non-null   object\n",
      " 16  하나리즈             501 non-null    object\n",
      " 17  살인범과 산다          156 non-null    object\n",
      " 18  잔액이 부족합니다        435 non-null    object\n",
      " 19  여긴 불빛이 안 드는 곳이야  1278 non-null   object\n",
      " 20  운명...인가요?        889 non-null    object\n",
      " 21  (Old)악마법소녀       2466 non-null   object\n",
      " 22  남편 먹는 여자         339 non-null    object\n",
      " 23  발버둥치다            1499 non-null   object\n",
      "dtypes: object(24)\n",
      "memory usage: 465.1+ KB\n",
      "None\n",
      "<class 'pandas.core.frame.DataFrame'>\n",
      "RangeIndex: 2163 entries, 0 to 2162\n",
      "Data columns (total 24 columns):\n",
      " #   Column          Non-Null Count  Dtype \n",
      "---  ------          --------------  ----- \n",
      " 0   만월에 핀 연꽃        766 non-null    object\n",
      " 1   중간계 사우나         2163 non-null   object\n",
      " 2   이세계 국밥 마스터      541 non-null    object\n",
      " 3   생산직 툰           326 non-null    object\n",
      " 4   우리 가 꿈          299 non-null    object\n",
      " 5   시크릿가족           719 non-null    object\n",
      " 6   아틀레냐 비바체        711 non-null    object\n",
      " 7   눈치없는 내 친구!      600 non-null    object\n",
      " 8   국제결혼개그만화        681 non-null    object\n",
      " 9   미신반신            273 non-null    object\n",
      " 10  올어바웃 You        319 non-null    object\n",
      " 11  좋아하는거 참으면 병나요!  504 non-null    object\n",
      " 12  낮잠 자는 사람들       667 non-null    object\n",
      " 13  무엇이든 그려드립니닷!    957 non-null    object\n",
      " 14  엑스프렌즈           600 non-null    object\n",
      " 15  뼈와 재, 불의 이야기    471 non-null    object\n",
      " 16  카나와 초나의 독일      453 non-null    object\n",
      " 17  언니가 돌아왔다        1616 non-null   object\n",
      " 18  나는 마요 집사로소이다    533 non-null    object\n",
      " 19  서툴고 어리숙해도 좋아하는  402 non-null    object\n",
      " 20  실험학교            1362 non-null   object\n",
      " 21  그래도 하루는         476 non-null    object\n",
      " 22  너와 가까워지는 거리     1393 non-null   object\n",
      " 23  죽 쑨 만화          345 non-null    object\n",
      "dtypes: object(24)\n",
      "memory usage: 405.7+ KB\n",
      "None\n",
      "<class 'pandas.core.frame.DataFrame'>\n",
      "RangeIndex: 1267 entries, 0 to 1266\n",
      "Data columns (total 24 columns):\n",
      " #   Column                 Non-Null Count  Dtype \n",
      "---  ------                 --------------  ----- \n",
      " 0   맹랑맘마 MEMORY            607 non-null    object\n",
      " 1   결혼하고 싶지 않았는데 못하게 되었다.  471 non-null    object\n",
      " 2   죽음과 동화                 716 non-null    object\n",
      " 3   86'd                   548 non-null    object\n",
      " 4   리드래프트                  1018 non-null   object\n",
      " 5   자작 보드게임 동아리            953 non-null    object\n",
      " 6   범고래아가씨                 562 non-null    object\n",
      " 7   감각의 어빌러티               355 non-null    object\n",
      " 8   천상대전                   1267 non-null   object\n",
      " 9   전지적덕후시점                432 non-null    object\n",
      " 10  AI폰 아리랑                436 non-null    object\n",
      " 11  정령왕즈                   1126 non-null   object\n",
      " 12  분노의 난임일기               411 non-null    object\n",
      " 13  두꺼비집                   513 non-null    object\n",
      " 14  한 뼘 공포집                242 non-null    object\n",
      " 15  어둠의 일상툰                498 non-null    object\n",
      " 16  깜빡깜빡                   906 non-null    object\n",
      " 17  채채쓰의 웃픈일기              381 non-null    object\n",
      " 18  만화 임진왜란                635 non-null    object\n",
      " 19  스토커의 하루                289 non-null    object\n",
      " 20  제제와 함께                 530 non-null    object\n",
      " 21  템플러                    345 non-null    object\n",
      " 22  너와 나의 몰디브              609 non-null    object\n",
      " 23  홈 스윗 홈                 418 non-null    object\n",
      "dtypes: object(24)\n",
      "memory usage: 237.7+ KB\n",
      "None\n",
      "<class 'pandas.core.frame.DataFrame'>\n",
      "RangeIndex: 1905 entries, 0 to 1904\n",
      "Data columns (total 24 columns):\n",
      " #   Column            Non-Null Count  Dtype \n",
      "---  ------            --------------  ----- \n",
      " 0   LADS'PARTY        609 non-null    object\n",
      " 1   오늘을 담다.           652 non-null    object\n",
      " 2   미친 꽃은 답도 없다       656 non-null    object\n",
      " 3   딴 짓이 제일 재밌어       224 non-null    object\n",
      " 4   너와 나의 하늘색         678 non-null    object\n",
      " 5   500원 토끼           966 non-null    object\n",
      " 6   함께 할 때까지          243 non-null    object\n",
      " 7   루텔                1905 non-null   object\n",
      " 8   틈                 859 non-null    object\n",
      " 9   좀비랜드              750 non-null    object\n",
      " 10  러브 햄츄얼리           429 non-null    object\n",
      " 11  오무라이스 프로젝트        138 non-null    object\n",
      " 12  뿅가이               836 non-null    object\n",
      " 13  타챠노트              259 non-null    object\n",
      " 14  모두의 미아씨           226 non-null    object\n",
      " 15  산군대잔치             404 non-null    object\n",
      " 16  소라비의 잡화점          64 non-null     object\n",
      " 17  77년생, 열아홉         428 non-null    object\n",
      " 18  나랑노랑~이제는 괜찮은 이야기  209 non-null    object\n",
      " 19  방에 콕! 진댕          243 non-null    object\n",
      " 20  내 매력에 퐁당          550 non-null    object\n",
      " 21  러브 유어 시스터         780 non-null    object\n",
      " 22  공원여행              218 non-null    object\n",
      " 23  식봉툰               332 non-null    object\n",
      "dtypes: object(24)\n",
      "memory usage: 357.3+ KB\n",
      "None\n",
      "<class 'pandas.core.frame.DataFrame'>\n",
      "RangeIndex: 1351 entries, 0 to 1350\n",
      "Data columns (total 24 columns):\n",
      " #   Column         Non-Null Count  Dtype \n",
      "---  ------         --------------  ----- \n",
      " 0   마이데이           554 non-null    object\n",
      " 1   젤라 유니버스        681 non-null    object\n",
      " 2   클리셰            1351 non-null   object\n",
      " 3   구나의 그랬구나       746 non-null    object\n",
      " 4   사는 게 이게 모양?!   357 non-null    object\n",
      " 5   띵동! 도토리에요      386 non-null    object\n",
      " 6   방구석수필          615 non-null    object\n",
      " 7   체리 블러드         477 non-null    object\n",
      " 8   우당탕 입큰이        304 non-null    object\n",
      " 9   쿤도덥브라더스        347 non-null    object\n",
      " 10  솔의 일기          455 non-null    object\n",
      " 11  158동 진상부부      193 non-null    object\n",
      " 12  너구리네 육아일기      306 non-null    object\n",
      " 13  행복을 찾다.        83 non-null     object\n",
      " 14  국밥소녀           543 non-null    object\n",
      " 15  이래봬도2학년        344 non-null    object\n",
      " 16  두남자일기          179 non-null    object\n",
      " 17  빨간 고백          539 non-null    object\n",
      " 18  프라이머리 컬러       295 non-null    object\n",
      " 19  김작가의 오춘기 그림일기  286 non-null    object\n",
      " 20  사랑하는 제자들       68 non-null     object\n",
      " 21  무존재감           236 non-null    object\n",
      " 22  애포칼립스          207 non-null    object\n",
      " 23  해피하우스          328 non-null    object\n",
      "dtypes: object(24)\n",
      "memory usage: 253.4+ KB\n",
      "None\n"
     ]
    }
   ],
   "source": [
    "for i in range(1, 7):\n",
    "    wt_dfi= pd.read_csv('NaverWebtoon_tue{}.csv'.format(i), encoding='cp949')\n",
    "    wt_dfi = wt_dfi.drop('Unnamed: 0', axis=1)\n",
    "    print(wt_dfi.info())"
   ]
  },
  {
   "cell_type": "code",
   "execution_count": null,
   "metadata": {},
   "outputs": [],
   "source": []
  }
 ]
}
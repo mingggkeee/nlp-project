{
 "metadata": {
  "language_info": {
   "codemirror_mode": {
    "name": "ipython",
    "version": 3
   },
   "file_extension": ".py",
   "mimetype": "text/x-python",
   "name": "python",
   "nbconvert_exporter": "python",
   "pygments_lexer": "ipython3",
   "version": "3.7.10"
  },
  "orig_nbformat": 2,
  "kernelspec": {
   "name": "python3710jvsc74a57bd06ba75201ffc980e63fafb5fcc34cd5fa109d6a791497ca89853d5cb86fd40001",
   "display_name": "Python 3.7.10 64-bit ('ssac': conda)"
  }
 },
 "nbformat": 4,
 "nbformat_minor": 2,
 "cells": [
  {
   "cell_type": "code",
   "execution_count": 1,
   "metadata": {},
   "outputs": [],
   "source": [
    "from konlpy.tag import *\n",
    "\n",
    "hannanum = Hannanum()\n",
    "kkma = Kkma()\n",
    "komoran = Komoran()\n",
    "okt = Okt()"
   ]
  },
  {
   "cell_type": "code",
   "execution_count": 8,
   "metadata": {},
   "outputs": [],
   "source": [
    "import pandas as pd \n",
    "first_df = pd.read_csv('베스트도전/1st_comments.csv')\n",
    "second_df = pd.read_csv('베스트도전/2nd_comments.csv')\n",
    "third_df = pd.read_csv('베스트도전/3rd_comments.csv')\n",
    "webtoon = pd.read_csv('정식웹툰-댓글통합.csv')"
   ]
  },
  {
   "cell_type": "code",
   "execution_count": 9,
   "metadata": {},
   "outputs": [],
   "source": [
    "first_group = ['싱글맘맘이야', '여우자매', '대학원 탈출일지', '오사와 오폐수들', '저승파견고용직', '우리 카페 사장님이 이상하다', '괜찮아, 고3이야', '우리집 강아지는 복슬강아지', '지극히 평범한 생활', '아빠는 N살', '낮잠 자는 사람들', '깜빡깜빡', '루텔', '구나의 그랬구나', '아스테리스크', '아오링도쿄', '잔액이 부족합니다', '운명...인가요?', '발버둥치다', '국제결혼개그만화', '실험학교', '오늘을 담다.', '방구석수필', '좀비 패밀리', '(Old)악마법소녀', '서툴고 어리숙해도 좋아하는', '정령왕즈', '쿤도덥브라더스', '생각보다 잘 자랐습니다', '몬스터 커맨더F', '생존일지', '시크릿가족', '무엇이든 그려드립니닷!', '카나와 초나의 독일', '그래도 하루는', '죽음과 동화', '감각의 어빌러티', '천상대전', 'AI폰 아리랑', '채채쓰의 웃픈일기', '방에 콕! 진댕', '무존재감']\n",
    "\n",
    "second_group = ['서폿저택에 어서오세요', '밤을 거둔 신기루는', '수영만화일기', '아틀레냐 비바체', '홈 스윗 홈', '뿅가이', '나랑노랑~이제는 괜찮은 이야기', '젤라 유니버스', '클리셰', '결혼하고 싶지 않았는데 못하게 되었다.', '86\\'d', '리드래프트', '틈', '산군대잔치', '행복을 찾다.', '김작가의 오춘기 그림일기', '포로롱 포롱', '우리 가 꿈', '올어바웃 You', '엑스프렌즈', '언니가 돌아왔다', '나는 마요 집사로소이다', '맹랑맘마 MEMORY', '오늘도 그래고래', '중간계 사우나', '러브 유어 시스터', '양송부부의 맛있는 한잔', '행복을 만드는 방법', '내 룸메이트는 마네킹', '죽 쑨 만화', '두꺼비집', '제제와 함께', '과학고 생존일지', '느린한끼', '나부활', '여긴 불빛이 안 드는 곳이야', '타챠노트', '사랑하는 제자들', '프라이머리 컬러', '생산직 툰', '눈치없는 내 친구!', '분노의 난임일기', '러브 햄츄얼리', '런어웨이', '만화 임진왜란', '오무라이스 프로젝트', '너구리네 육아일기', '이과지옥', 'LADS\\'PARTY', '미친 꽃은 답도 없다', '소라비의 잡화점']\n",
    "\n",
    "third_group = ['사는 게 이게 모양?!', '빨간 고백', '위닝샷!', '집순이에 대하여', '자작 보드게임 동아리', '500원 토끼', '솔의 일기', '이래봬도2학년', '대공녀는 거기에 없었다', '범고래아가씨', '77년생, 열아홉', '두남자일기', '여기서 한잔할래?', '좋아하는거 참으면 병나요!', '딴 짓이 제일 재밌어', '스토커의 하루', '띵동! 도토리에요', '마이데이', '판타지 TV', '만월에 핀 연꽃', '전지적덕후시점', '너와 나의 하늘색', '너와 가까워지는 거리', '어둠의 일상툰', '하이스쿨 콤플렉스(마이동풍)', '함께 할 때까지', '이세계 국밥 마스터', '우당탕 입큰이', '좀비랜드', '내 매력에 퐁당', '나타나주세요!', '하루의 하늘', '한 뼘 공포집', '해피하우스', '살인교사', '템플러', '직업 : 며느리', '뼈와 재, 불의 이야기', '남편 먹는 여자', '너와 나의 몰디브', '체리 블러드', '모두의 미아씨', '158동 진상부부', '공원여행', '살인범과 산다', '애포칼립스', '미신반신', '의대생 하루', '하나리즈', '식봉툰', '국밥소녀']"
   ]
  },
  {
   "cell_type": "code",
   "execution_count": 17,
   "metadata": {},
   "outputs": [],
   "source": [
    "wt_list=['목요일-연애혁명', '목요일-롤랑롤랑', '금요일-고래별', '금요일-외모지상주의', '수요일-고수', '수요일-귀곡의문', '월요일-뷰티풀군바리', '월요일-유일무이로맨스', '일요일-싸움독학', '일요일-이번생도잘부탁해', '토요일-어글리후드', '토요일-호랑이형님', '화요일-숲속의담', '화요일-여신강림']"
   ]
  },
  {
   "cell_type": "code",
   "execution_count": 23,
   "metadata": {},
   "outputs": [],
   "source": [
    "first_df_keyword = pd.DataFrame()\n",
    "second_df_keyword = pd.DataFrame()\n",
    "third_df_keyword = pd.DataFrame()"
   ]
  },
  {
   "cell_type": "code",
   "execution_count": 22,
   "metadata": {},
   "outputs": [],
   "source": [
    "webtoon_keyword = pd.DataFrame()"
   ]
  },
  {
   "cell_type": "code",
   "execution_count": 6,
   "metadata": {},
   "outputs": [],
   "source": [
    "file = open(\"stopwords.txt\", \"r\", encoding='utf-8')\n",
    "stopwords = []\n",
    "while True:\n",
    "    line = file.readline()\n",
    "    if not line:\n",
    "        break\n",
    "    stopwords.append(line)\n",
    "file.close()\n",
    "stopwords = [w.replace('\\n', '') for w in stopwords]"
   ]
  },
  {
   "cell_type": "code",
   "execution_count": 11,
   "metadata": {
    "tags": []
   },
   "outputs": [],
   "source": [
    "for j in first_group:\n",
    "    keyword = []\n",
    "    for i in range(len(first_df)):\n",
    "        try:\n",
    "            malist = okt.pos(first_df[j][i])\n",
    "            for word in malist:\n",
    "                if word[1] in [\"Adjective\"] and word[0] not in stopwords and len(word[0]) > 1:\n",
    "                    keyword.append(word[0])\n",
    "        except:\n",
    "            continue\n",
    "    new_col = pd.Series(keyword, name=j)\n",
    "    first_df_keyword = pd.concat([first_df_keyword, new_col], axis=1)"
   ]
  },
  {
   "cell_type": "code",
   "execution_count": 12,
   "metadata": {},
   "outputs": [],
   "source": [
    "for j in second_group:\n",
    "    keyword = []\n",
    "    for i in range(len(second_df)):\n",
    "        try:\n",
    "            malist = okt.pos(second_df[j][i])\n",
    "            for word in malist:\n",
    "                if word[1] in [\"Adjective\"] and word[0] not in stopwords and len(word[0]) > 1:\n",
    "                    keyword.append(word[0])\n",
    "        except:\n",
    "            continue\n",
    "    new_col = pd.Series(keyword, name=j)\n",
    "    second_df_keyword = pd.concat([second_df_keyword, new_col], axis=1)"
   ]
  },
  {
   "cell_type": "code",
   "execution_count": 26,
   "metadata": {},
   "outputs": [],
   "source": [
    "for j in third_group:\n",
    "    keyword = []\n",
    "    for i in range(len(third_df)):\n",
    "        try:\n",
    "            malist = okt.pos(third_df[j][i])\n",
    "            for word in malist:\n",
    "                if word[1] in [\"Adjective\"] and word[0] not in stopwords and len(word[0]) > 1:\n",
    "                    keyword.append(word[0])\n",
    "        except:\n",
    "            continue\n",
    "    new_col = pd.Series(keyword, name=j)\n",
    "    third_df_keyword = pd.concat([third_df_keyword, new_col], axis=1)"
   ]
  },
  {
   "cell_type": "code",
   "execution_count": 24,
   "metadata": {},
   "outputs": [],
   "source": [
    "for j in wt_list:\n",
    "    keyword = []\n",
    "    for i in range(len(webtoon)):\n",
    "        try:\n",
    "            malist = okt.pos(webtoon[j][i])\n",
    "            for word in malist:\n",
    "                if word[1] in [\"Adjective\"] and word[0] not in stopwords and len(word[0]) > 1:\n",
    "                    keyword.append(word[0])\n",
    "        except:\n",
    "            continue\n",
    "    new_col = pd.Series(keyword, name=j)\n",
    "    webtoon_keyword = pd.concat([webtoon_keyword, new_col], axis=1)"
   ]
  },
  {
   "cell_type": "code",
   "execution_count": 27,
   "metadata": {},
   "outputs": [
    {
     "output_type": "stream",
     "name": "stdout",
     "text": [
      "<class 'pandas.core.frame.DataFrame'>\nIndex: 2567 entries, 0 to 2566\nData columns (total 42 columns):\n #   Column           Non-Null Count  Dtype \n---  ------           --------------  ----- \n 0   싱글맘맘이야           610 non-null    object\n 1   여우자매             2142 non-null   object\n 2   대학원 탈출일지         588 non-null    object\n 3   오사와 오폐수들         411 non-null    object\n 4   저승파견고용직          689 non-null    object\n 5   우리 카페 사장님이 이상하다  167 non-null    object\n 6   괜찮아, 고3이야        1415 non-null   object\n 7   우리집 강아지는 복슬강아지   270 non-null    object\n 8   지극히 평범한 생활       159 non-null    object\n 9   아빠는 N살           167 non-null    object\n 10  낮잠 자는 사람들        645 non-null    object\n 11  깜빡깜빡             1167 non-null   object\n 12  루텔               1205 non-null   object\n 13  구나의 그랬구나         795 non-null    object\n 14  아스테리스크           382 non-null    object\n 15  아오링도쿄            552 non-null    object\n 16  잔액이 부족합니다        355 non-null    object\n 17  운명...인가요?        460 non-null    object\n 18  발버둥치다            2567 non-null   object\n 19  국제결혼개그만화         483 non-null    object\n 20  실험학교             925 non-null    object\n 21  오늘을 담다.          924 non-null    object\n 22  방구석수필            763 non-null    object\n 23  좀비 패밀리           338 non-null    object\n 24  (Old)악마법소녀       2178 non-null   object\n 25  서툴고 어리숙해도 좋아하는   315 non-null    object\n 26  정령왕즈             889 non-null    object\n 27  쿤도덥브라더스          482 non-null    object\n 28  생각보다 잘 자랐습니다     1005 non-null   object\n 29  몬스터 커맨더F         513 non-null    object\n 30  생존일지             256 non-null    object\n 31  시크릿가족            914 non-null    object\n 32  무엇이든 그려드립니닷!     769 non-null    object\n 33  카나와 초나의 독일       828 non-null    object\n 34  그래도 하루는          1093 non-null   object\n 35  죽음과 동화           648 non-null    object\n 36  감각의 어빌러티         189 non-null    object\n 37  천상대전             641 non-null    object\n 38  AI폰 아리랑          195 non-null    object\n 39  채채쓰의 웃픈일기        349 non-null    object\n 40  방에 콕! 진댕         135 non-null    object\n 41  무존재감             136 non-null    object\ndtypes: object(42)\nmemory usage: 862.4+ KB\n<class 'pandas.core.frame.DataFrame'>\nIndex: 1322 entries, 0 to 1321\nData columns (total 51 columns):\n #   Column                 Non-Null Count  Dtype \n---  ------                 --------------  ----- \n 0   서폿저택에 어서오세요            610 non-null    object\n 1   밤을 거둔 신기루는             284 non-null    object\n 2   수영만화일기                 439 non-null    object\n 3   아틀레냐 비바체               369 non-null    object\n 4   홈 스윗 홈                 556 non-null    object\n 5   뿅가이                    672 non-null    object\n 6   나랑노랑~이제는 괜찮은 이야기       325 non-null    object\n 7   젤라 유니버스                503 non-null    object\n 8   클리셰                    694 non-null    object\n 9   결혼하고 싶지 않았는데 못하게 되었다.  490 non-null    object\n 10  86'd                   446 non-null    object\n 11  리드래프트                  559 non-null    object\n 12  틈                      740 non-null    object\n 13  산군대잔치                  371 non-null    object\n 14  행복을 찾다.                40 non-null     object\n 15  김작가의 오춘기 그림일기          304 non-null    object\n 16  포로롱 포롱                 26 non-null     object\n 17  우리 가 꿈                 540 non-null    object\n 18  올어바웃 You               281 non-null    object\n 19  엑스프렌즈                  652 non-null    object\n 20  언니가 돌아왔다               846 non-null    object\n 21  나는 마요 집사로소이다           395 non-null    object\n 22  맹랑맘마 MEMORY            965 non-null    object\n 23  오늘도 그래고래               550 non-null    object\n 24  중간계 사우나                1322 non-null   object\n 25  러브 유어 시스터              569 non-null    object\n 26  양송부부의 맛있는 한잔           769 non-null    object\n 27  행복을 만드는 방법             208 non-null    object\n 28  내 룸메이트는 마네킹            1209 non-null   object\n 29  죽 쑨 만화                 220 non-null    object\n 30  두꺼비집                   401 non-null    object\n 31  제제와 함께                 1289 non-null   object\n 32  과학고 생존일지               506 non-null    object\n 33  느린한끼                   266 non-null    object\n 34  나부활                    405 non-null    object\n 35  여긴 불빛이 안 드는 곳이야        722 non-null    object\n 36  타챠노트                   316 non-null    object\n 37  사랑하는 제자들               30 non-null     object\n 38  프라이머리 컬러               278 non-null    object\n 39  생산직 툰                  268 non-null    object\n 40  눈치없는 내 친구!             336 non-null    object\n 41  분노의 난임일기               809 non-null    object\n 42  러브 햄츄얼리                420 non-null    object\n 43  런어웨이                   544 non-null    object\n 44  만화 임진왜란                460 non-null    object\n 45  오무라이스 프로젝트             75 non-null     object\n 46  너구리네 육아일기              338 non-null    object\n 47  이과지옥                   276 non-null    object\n 48  LADS'PARTY             311 non-null    object\n 49  미친 꽃은 답도 없다            316 non-null    object\n 50  소라비의 잡화점               34 non-null     object\ndtypes: object(51)\nmemory usage: 537.1+ KB\n<class 'pandas.core.frame.DataFrame'>\nIndex: 1033 entries, 0 to 1032\nData columns (total 51 columns):\n #   Column           Non-Null Count  Dtype \n---  ------           --------------  ----- \n 0   사는 게 이게 모양?!     325 non-null    object\n 1   빨간 고백            291 non-null    object\n 2   위닝샷!             464 non-null    object\n 3   집순이에 대하여         519 non-null    object\n 4   자작 보드게임 동아리      691 non-null    object\n 5   500원 토끼          393 non-null    object\n 6   솔의 일기            501 non-null    object\n 7   이래봬도2학년          385 non-null    object\n 8   대공녀는 거기에 없었다     804 non-null    object\n 9   범고래아가씨           287 non-null    object\n 10  77년생, 열아홉        330 non-null    object\n 11  두남자일기            93 non-null     object\n 12  여기서 한잔할래?        483 non-null    object\n 13  좋아하는거 참으면 병나요!   413 non-null    object\n 14  딴 짓이 제일 재밌어      155 non-null    object\n 15  스토커의 하루          171 non-null    object\n 16  띵동! 도토리에요        275 non-null    object\n 17  마이데이             547 non-null    object\n 18  판타지 TV           592 non-null    object\n 19  만월에 핀 연꽃         540 non-null    object\n 20  전지적덕후시점          728 non-null    object\n 21  너와 나의 하늘색        370 non-null    object\n 22  너와 가까워지는 거리      760 non-null    object\n 23  어둠의 일상툰          295 non-null    object\n 24  하이스쿨 콤플렉스(마이동풍)  288 non-null    object\n 25  함께 할 때까지         212 non-null    object\n 26  이세계 국밥 마스터       225 non-null    object\n 27  우당탕 입큰이          180 non-null    object\n 28  좀비랜드             388 non-null    object\n 29  내 매력에 퐁당         375 non-null    object\n 30  나타나주세요!          769 non-null    object\n 31  하루의 하늘           334 non-null    object\n 32  한 뼘 공포집          171 non-null    object\n 33  해피하우스            293 non-null    object\n 34  살인교사             236 non-null    object\n 35  템플러              181 non-null    object\n 36  직업 : 며느리         1033 non-null   object\n 37  뼈와 재, 불의 이야기     306 non-null    object\n 38  남편 먹는 여자         242 non-null    object\n 39  너와 나의 몰디브        381 non-null    object\n 40  체리 블러드           360 non-null    object\n 41  모두의 미아씨          173 non-null    object\n 42  158동 진상부부        205 non-null    object\n 43  공원여행             143 non-null    object\n 44  살인범과 산다          134 non-null    object\n 45  애포칼립스            254 non-null    object\n 46  미신반신             117 non-null    object\n 47  의대생 하루           280 non-null    object\n 48  하나리즈             613 non-null    object\n 49  식봉툰              214 non-null    object\n 50  국밥소녀             202 non-null    object\ndtypes: object(51)\nmemory usage: 419.7+ KB\n<class 'pandas.core.frame.DataFrame'>\nIndex: 811 entries, 0 to 810\nData columns (total 14 columns):\n #   Column        Non-Null Count  Dtype \n---  ------        --------------  ----- \n 0   목요일-연애혁명      811 non-null    object\n 1   목요일-롤랑롤랑      235 non-null    object\n 2   금요일-고래별       321 non-null    object\n 3   금요일-외모지상주의    643 non-null    object\n 4   수요일-고수        440 non-null    object\n 5   수요일-귀곡의문      304 non-null    object\n 6   월요일-뷰티풀군바리    639 non-null    object\n 7   월요일-유일무이로맨스   286 non-null    object\n 8   일요일-싸움독학      147 non-null    object\n 9   일요일-이번생도잘부탁해  103 non-null    object\n 10  토요일-어글리후드     285 non-null    object\n 11  토요일-호랑이형님     782 non-null    object\n 12  화요일-숲속의담      199 non-null    object\n 13  화요일-여신강림      282 non-null    object\ndtypes: object(14)\nmemory usage: 95.0+ KB\n"
     ]
    }
   ],
   "source": [
    "first_df_keyword.info()\n",
    "second_df_keyword.info()\n",
    "third_df_keyword.info()\n",
    "webtoon_keyword.info()"
   ]
  },
  {
   "cell_type": "code",
   "execution_count": 28,
   "metadata": {},
   "outputs": [],
   "source": [
    "first_df_keyword.to_csv('1st_keyword.csv', index=False, encoding='utf-8-sig')\n",
    "second_df_keyword.to_csv('2nd_keyword.csv', index=False, encoding='utf-8-sig')\n",
    "third_df_keyword.to_csv('3rd_keyword.csv', index=False, encoding='utf-8-sig')\n",
    "webtoon_keyword.to_csv('정식웹툰댓글키워드.csv', index=False, encoding='utf-8-sig')"
   ]
  },
  {
   "cell_type": "code",
   "execution_count": null,
   "metadata": {},
   "outputs": [],
   "source": []
  }
 ]
}
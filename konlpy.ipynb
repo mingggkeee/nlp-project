{
 "metadata": {
  "language_info": {
   "codemirror_mode": {
    "name": "ipython",
    "version": 3
   },
   "file_extension": ".py",
   "mimetype": "text/x-python",
   "name": "python",
   "nbconvert_exporter": "python",
   "pygments_lexer": "ipython3",
   "version": "3.7.9"
  },
  "orig_nbformat": 2,
  "kernelspec": {
   "name": "python379jvsc74a57bd0e3e6299cafd859ebd092853d2ce219882ca666ebac67599b06b83cea9da9c5fd",
   "display_name": "Python 3.7.9 64-bit (conda)"
  }
 },
 "nbformat": 4,
 "nbformat_minor": 2,
 "cells": [
  {
   "cell_type": "code",
   "execution_count": 15,
   "metadata": {},
   "outputs": [],
   "source": [
    "from konlpy.tag import *\n",
    "\n",
    "hannanum = Hannanum()\n",
    "kkma = Kkma()\n",
    "komoran = Komoran()\n",
    "okt = Okt()"
   ]
  },
  {
   "cell_type": "code",
   "execution_count": 73,
   "metadata": {},
   "outputs": [],
   "source": [
    "import pandas as pd \n",
    "first_df = pd.read_csv('1st_comments.csv')\n",
    "second_df = pd.read_csv('2nd_comments.csv')\n",
    "third_df = pd.read_csv('3rd_comments.csv')"
   ]
  },
  {
   "cell_type": "code",
   "execution_count": 74,
   "metadata": {},
   "outputs": [],
   "source": [
    "first_group = ['싱글맘맘이야', '여우자매', '대학원 탈출일지', '오사와 오폐수들', '저승파견고용직', '우리 카페 사장님이 이상하다', '괜찮아, 고3이야', '우리집 강아지는 복슬강아지', '지극히 평범한 생활', '아빠는 N살', '낮잠 자는 사람들', '깜빡깜빡', '루텔', '구나의 그랬구나', '아스테리스크', '아오링도쿄', '잔액이 부족합니다', '운명...인가요?', '발버둥치다', '국제결혼개그만화', '실험학교', '오늘을 담다.', '방구석수필', '좀비 패밀리', '(Old)악마법소녀', '서툴고 어리숙해도 좋아하는', '정령왕즈', '쿤도덥브라더스', '생각보다 잘 자랐습니다', '몬스터 커맨더F', '생존일지', '시크릿가족', '무엇이든 그려드립니닷!', '카나와 초나의 독일', '그래도 하루는', '죽음과 동화', '감각의 어빌러티', '천상대전', 'AI폰 아리랑', '채채쓰의 웃픈일기', '방에 콕! 진댕', '무존재감']\n",
    "\n",
    "second_group = ['서폿저택에 어서오세요', '밤을 거둔 신기루는', '수영만화일기', '아틀레냐 비바체', '홈 스윗 홈', '뿅가이', '나랑노랑~이제는 괜찮은 이야기', '젤라 유니버스', '클리셰', '결혼하고 싶지 않았는데 못하게 되었다.', '86\\'d', '리드래프트', '틈', '산군대잔치', '행복을 찾다.', '김작가의 오춘기 그림일기', '포로롱 포롱', '우리 가 꿈', '올어바웃 You', '엑스프렌즈', '언니가 돌아왔다', '나는 마요 집사로소이다', '맹랑맘마 MEMORY', '오늘도 그래고래', '중간계 사우나', '러브 유어 시스터', '양송부부의 맛있는 한잔', '행복을 만드는 방법', '내 룸메이트는 마네킹', '죽 쑨 만화', '두꺼비집', '제제와 함께', '과학고 생존일지', '느린한끼', '나부활', '여긴 불빛이 안 드는 곳이야', '타챠노트', '사랑하는 제자들', '프라이머리 컬러', '생산직 툰', '눈치없는 내 친구!', '분노의 난임일기', '러브 햄츄얼리', '런어웨이', '만화 임진왜란', '오무라이스 프로젝트', '너구리네 육아일기', '이과지옥', 'LADS\\'PARTY', '미친 꽃은 답도 없다', '소라비의 잡화점']\n",
    "\n",
    "third_group = ['사는 게 이게 모양?!', '빨간 고백', '위닝샷!', '집순이에 대하여', '자작 보드게임 동아리', '500원 토끼', '솔의 일기', '이래봬도2학년', '대공녀는 거기에 없었다', '범고래아가씨', '77년생, 열아홉', '두남자일기', '여기서 한잔할래?', '좋아하는거 참으면 병나요!', '딴 짓이 제일 재밌어', '스토커의 하루', '띵동! 도토리에요', '마이데이', '판타지 TV', '만월에 핀 연꽃', '전지적덕후시점', '너와 나의 하늘색', '너와 가까워지는 거리', '어둠의 일상툰', '하이스쿨 콤플렉스(마이동풍)', '함께 할 때까지', '이세계 국밥 마스터', '우당탕 입큰이', '좀비랜드', '내 매력에 퐁당', '나타나주세요!', '하루의 하늘', '한 뼘 공포집', '해피하우스', '살인교사', '템플러', '직업 : 며느리', '뼈와 재, 불의 이야기', '남편 먹는 여자', '너와 나의 몰디브', '체리 블러드', '모두의 미아씨', '158동 진상부부', '공원여행', '살인범과 산다', '애포칼립스', '미신반신', '의대생 하루', '하나리즈', '식봉툰', '국밥소녀']"
   ]
  },
  {
   "cell_type": "code",
   "execution_count": 75,
   "metadata": {},
   "outputs": [],
   "source": [
    "first_df_keyword = pd.DataFrame()\n",
    "second_df_keyword = pd.DataFrame()\n",
    "third_df_keyword = pd.DataFrame()"
   ]
  },
  {
   "cell_type": "code",
   "execution_count": 69,
   "metadata": {
    "tags": []
   },
   "outputs": [],
   "source": [
    "for j in first_group:\n",
    "    keyword = []\n",
    "    for i in range(len(first_df)):\n",
    "        try:\n",
    "            malist = okt.pos(first_df[j][i])\n",
    "            for word in malist:\n",
    "                if word[1] in [\"Adjective\", \"Adverb\"]:\n",
    "                    keyword.append(word[0])\n",
    "        except:\n",
    "            continue\n",
    "    new_col = pd.Series(keyword, name=j)\n",
    "    first_df_keyword = pd.concat([first_df_keyword, new_col], axis=1)"
   ]
  },
  {
   "cell_type": "code",
   "execution_count": 76,
   "metadata": {},
   "outputs": [],
   "source": [
    "for j in second_df:\n",
    "    keyword = []\n",
    "    for i in range(len(second_df)):\n",
    "        try:\n",
    "            malist = okt.pos(second_df[j][i])\n",
    "            for word in malist:\n",
    "                if word[1] in [\"Adjective\", \"Adverb\"]:\n",
    "                    keyword.append(word[0])\n",
    "        except:\n",
    "            continue\n",
    "    new_col = pd.Series(keyword, name=j)\n",
    "    second_df_keyword = pd.concat([second_df_keyword, new_col], axis=1)"
   ]
  },
  {
   "cell_type": "code",
   "execution_count": 77,
   "metadata": {},
   "outputs": [],
   "source": [
    "for j in third_df:\n",
    "    keyword = []\n",
    "    for i in range(len(third_df)):\n",
    "        try:\n",
    "            malist = okt.pos(third_df[j][i])\n",
    "            for word in malist:\n",
    "                if word[1] in [\"Adjective\", \"Adverb\"]:\n",
    "                    keyword.append(word[0])\n",
    "        except:\n",
    "            continue\n",
    "    new_col = pd.Series(keyword, name=j)\n",
    "    third_df_keyword = pd.concat([third_df_keyword, new_col], axis=1)"
   ]
  },
  {
   "cell_type": "code",
   "execution_count": 79,
   "metadata": {},
   "outputs": [
    {
     "output_type": "stream",
     "name": "stdout",
     "text": [
      "<class 'pandas.core.frame.DataFrame'>\nIndex: 4345 entries, 0 to 4344\nData columns (total 42 columns):\n #   Column           Non-Null Count  Dtype \n---  ------           --------------  ----- \n 0   싱글맘맘이야           1030 non-null   object\n 1   여우자매             4016 non-null   object\n 2   대학원 탈출일지         1097 non-null   object\n 3   오사와 오폐수들         822 non-null    object\n 4   저승파견고용직          1262 non-null   object\n 5   우리 카페 사장님이 이상하다  265 non-null    object\n 6   괜찮아, 고3이야        2503 non-null   object\n 7   우리집 강아지는 복슬강아지   443 non-null    object\n 8   지극히 평범한 생활       295 non-null    object\n 9   아빠는 N살           289 non-null    object\n 10  낮잠 자는 사람들        1142 non-null   object\n 11  깜빡깜빡             2114 non-null   object\n 12  루텔               2400 non-null   object\n 13  구나의 그랬구나         1374 non-null   object\n 14  아스테리스크           685 non-null    object\n 15  아오링도쿄            886 non-null    object\n 16  잔액이 부족합니다        649 non-null    object\n 17  운명...인가요?        921 non-null    object\n 18  발버둥치다            4345 non-null   object\n 19  국제결혼개그만화         843 non-null    object\n 20  실험학교             1588 non-null   object\n 21  오늘을 담다.          1462 non-null   object\n 22  방구석수필            1159 non-null   object\n 23  좀비 패밀리           585 non-null    object\n 24  (Old)악마법소녀       3874 non-null   object\n 25  서툴고 어리숙해도 좋아하는   552 non-null    object\n 26  정령왕즈             1656 non-null   object\n 27  쿤도덥브라더스          750 non-null    object\n 28  생각보다 잘 자랐습니다     1689 non-null   object\n 29  몬스터 커맨더F         936 non-null    object\n 30  생존일지             480 non-null    object\n 31  시크릿가족            1426 non-null   object\n 32  무엇이든 그려드립니닷!     1329 non-null   object\n 33  카나와 초나의 독일       1354 non-null   object\n 34  그래도 하루는          1857 non-null   object\n 35  죽음과 동화           1219 non-null   object\n 36  감각의 어빌러티         330 non-null    object\n 37  천상대전             1212 non-null   object\n 38  AI폰 아리랑          331 non-null    object\n 39  채채쓰의 웃픈일기        557 non-null    object\n 40  방에 콕! 진댕         233 non-null    object\n 41  무존재감             213 non-null    object\ndtypes: object(42)\nmemory usage: 1.4+ MB\n<class 'pandas.core.frame.DataFrame'>\nIndex: 2444 entries, 0 to 2443\nData columns (total 51 columns):\n #   Column                 Non-Null Count  Dtype \n---  ------                 --------------  ----- \n 0   서폿저택에 어서오세요            1030 non-null   object\n 1   밤을 거둔 신기루는             573 non-null    object\n 2   수영만화일기                 916 non-null    object\n 3   아틀레냐 비바체               648 non-null    object\n 4   홈 스윗 홈                 903 non-null    object\n 5   뿅가이                    1383 non-null   object\n 6   나랑노랑~이제는 괜찮은 이야기       561 non-null    object\n 7   젤라 유니버스                817 non-null    object\n 8   클리셰                    1238 non-null   object\n 9   결혼하고 싶지 않았는데 못하게 되었다.  828 non-null    object\n 10  86'd                   733 non-null    object\n 11  리드래프트                  979 non-null    object\n 12  틈                      1243 non-null   object\n 13  산군대잔치                  684 non-null    object\n 14  행복을 찾다.                77 non-null     object\n 15  김작가의 오춘기 그림일기          536 non-null    object\n 16  포로롱 포롱                 59 non-null     object\n 17  우리 가 꿈                 887 non-null    object\n 18  올어바웃 You               490 non-null    object\n 19  엑스프렌즈                  1053 non-null   object\n 20  언니가 돌아왔다               1530 non-null   object\n 21  나는 마요 집사로소이다           821 non-null    object\n 22  맹랑맘마 MEMORY            1647 non-null   object\n 23  오늘도 그래고래               1102 non-null   object\n 24  중간계 사우나                2444 non-null   object\n 25  러브 유어 시스터              1012 non-null   object\n 26  양송부부의 맛있는 한잔           1409 non-null   object\n 27  행복을 만드는 방법             329 non-null    object\n 28  내 룸메이트는 마네킹            2260 non-null   object\n 29  죽 쑨 만화                 420 non-null    object\n 30  두꺼비집                   692 non-null    object\n 31  제제와 함께                 2169 non-null   object\n 32  과학고 생존일지               863 non-null    object\n 33  느린한끼                   403 non-null    object\n 34  나부활                    735 non-null    object\n 35  여긴 불빛이 안 드는 곳이야        1248 non-null   object\n 36  타챠노트                   548 non-null    object\n 37  사랑하는 제자들               62 non-null     object\n 38  프라이머리 컬러               463 non-null    object\n 39  생산직 툰                  440 non-null    object\n 40  눈치없는 내 친구!             551 non-null    object\n 41  분노의 난임일기               1385 non-null   object\n 42  러브 햄츄얼리                738 non-null    object\n 43  런어웨이                   973 non-null    object\n 44  만화 임진왜란                715 non-null    object\n 45  오무라이스 프로젝트             134 non-null    object\n 46  너구리네 육아일기              601 non-null    object\n 47  이과지옥                   635 non-null    object\n 48  LADS'PARTY             570 non-null    object\n 49  미친 꽃은 답도 없다            522 non-null    object\n 50  소라비의 잡화점               68 non-null     object\ndtypes: object(51)\nmemory usage: 992.9+ KB\n<class 'pandas.core.frame.DataFrame'>\nIndex: 1778 entries, 0 to 1777\nData columns (total 51 columns):\n #   Column           Non-Null Count  Dtype \n---  ------           --------------  ----- \n 0   사는 게 이게 모양?!     525 non-null    object\n 1   빨간 고백            516 non-null    object\n 2   위닝샷!             857 non-null    object\n 3   집순이에 대하여         863 non-null    object\n 4   자작 보드게임 동아리      1161 non-null   object\n 5   500원 토끼          781 non-null    object\n 6   솔의 일기            775 non-null    object\n 7   이래봬도2학년          628 non-null    object\n 8   대공녀는 거기에 없었다     1397 non-null   object\n 9   범고래아가씨           558 non-null    object\n 10  77년생, 열아홉        573 non-null    object\n 11  두남자일기            142 non-null    object\n 12  여기서 한잔할래?        799 non-null    object\n 13  좋아하는거 참으면 병나요!   705 non-null    object\n 14  딴 짓이 제일 재밌어      258 non-null    object\n 15  스토커의 하루          308 non-null    object\n 16  띵동! 도토리에요        464 non-null    object\n 17  마이데이             1021 non-null   object\n 18  판타지 TV           1016 non-null   object\n 19  만월에 핀 연꽃         1045 non-null   object\n 20  전지적덕후시점          1190 non-null   object\n 21  너와 나의 하늘색        724 non-null    object\n 22  너와 가까워지는 거리      1501 non-null   object\n 23  어둠의 일상툰          507 non-null    object\n 24  하이스쿨 콤플렉스(마이동풍)  559 non-null    object\n 25  함께 할 때까지         303 non-null    object\n 26  이세계 국밥 마스터       351 non-null    object\n 27  우당탕 입큰이          327 non-null    object\n 28  좀비랜드             618 non-null    object\n 29  내 매력에 퐁당         658 non-null    object\n 30  나타나주세요!          1778 non-null   object\n 31  하루의 하늘           585 non-null    object\n 32  한 뼘 공포집          238 non-null    object\n 33  해피하우스            462 non-null    object\n 34  살인교사             393 non-null    object\n 35  템플러              252 non-null    object\n 36  직업 : 며느리         1715 non-null   object\n 37  뼈와 재, 불의 이야기     537 non-null    object\n 38  남편 먹는 여자         387 non-null    object\n 39  너와 나의 몰디브        724 non-null    object\n 40  체리 블러드           577 non-null    object\n 41  모두의 미아씨          330 non-null    object\n 42  158동 진상부부        321 non-null    object\n 43  공원여행             220 non-null    object\n 44  살인범과 산다          222 non-null    object\n 45  애포칼립스            396 non-null    object\n 46  미신반신             235 non-null    object\n 47  의대생 하루           532 non-null    object\n 48  하나리즈             1011 non-null   object\n 49  식봉툰              351 non-null    object\n 50  국밥소녀             392 non-null    object\ndtypes: object(51)\nmemory usage: 722.3+ KB\n"
     ]
    }
   ],
   "source": [
    "first_df_keyword.info()\n",
    "second_df_keyword.info()\n",
    "third_df_keyword.info()"
   ]
  },
  {
   "cell_type": "code",
   "execution_count": 81,
   "metadata": {},
   "outputs": [],
   "source": [
    "first_df_keyword.to_csv('1st_keyword.csv', index=False, encoding='utf-8-sig')\n",
    "second_df_keyword.to_csv('2nd_keyword.csv', index=False, encoding='utf-8-sig')\n",
    "third_df_keyword.to_csv('3rd_keyword.csv', index=False, encoding='utf-8-sig')"
   ]
  },
  {
   "cell_type": "code",
   "execution_count": null,
   "metadata": {},
   "outputs": [],
   "source": []
  }
 ]
}
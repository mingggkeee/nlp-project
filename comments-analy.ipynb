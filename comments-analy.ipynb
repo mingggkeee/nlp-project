{
 "metadata": {
  "language_info": {
   "codemirror_mode": {
    "name": "ipython",
    "version": 3
   },
   "file_extension": ".py",
   "mimetype": "text/x-python",
   "name": "python",
   "nbconvert_exporter": "python",
   "pygments_lexer": "ipython3",
   "version": "3.7.10"
  },
  "orig_nbformat": 2,
  "kernelspec": {
   "name": "python3710jvsc74a57bd06ba75201ffc980e63fafb5fcc34cd5fa109d6a791497ca89853d5cb86fd40001",
   "display_name": "Python 3.7.10 64-bit ('ssac': conda)"
  }
 },
 "nbformat": 4,
 "nbformat_minor": 2,
 "cells": [
  {
   "cell_type": "code",
   "execution_count": 1,
   "metadata": {},
   "outputs": [],
   "source": [
    "import pandas as pd "
   ]
  },
  {
   "cell_type": "code",
   "execution_count": 5,
   "metadata": {},
   "outputs": [],
   "source": [
    "first_df = pd.read_csv('베스트도전/1st.csv')\n",
    "second_df = pd.read_csv('베스트도전/2nd.csv')\n",
    "third_df = pd.read_csv('베스트도전/3rd.csv')"
   ]
  },
  {
   "cell_type": "code",
   "execution_count": 10,
   "metadata": {},
   "outputs": [],
   "source": [
    "# 평균 댓글 수 계산하기\n",
    "\n",
    "comm_avg1 = 0 ; comm_avg2 = 0 ; comm_avg3 = 0\n",
    "# 1그룹\n",
    "for i in range(len(first_df)):\n",
    "    comm_avg1 += first_df['comments'][i]\n",
    "comm_avg1 = float(comm_avg1/len(first_df))\n",
    "\n",
    "# 2그룹\n",
    "for i in range(len(second_df)):\n",
    "    comm_avg2 += second_df['comments'][i]\n",
    "comm_avg2 = float(comm_avg2/len(second_df))\n",
    "\n",
    "# 3그룹\n",
    "for i in range(len(third_df)):\n",
    "    comm_avg3 += third_df['comments'][i]\n",
    "comm_avg3 = float(comm_avg3/len(third_df))"
   ]
  },
  {
   "cell_type": "code",
   "execution_count": 11,
   "metadata": {},
   "outputs": [
    {
     "output_type": "execute_result",
     "data": {
      "text/plain": [
       "(847.6428571428571, 620.7450980392157, 539.3529411764706)"
      ]
     },
     "metadata": {},
     "execution_count": 11
    }
   ],
   "source": [
    "comm_avg1, comm_avg2, comm_avg3"
   ]
  },
  {
   "cell_type": "code",
   "execution_count": null,
   "metadata": {},
   "outputs": [],
   "source": []
  }
 ]
}
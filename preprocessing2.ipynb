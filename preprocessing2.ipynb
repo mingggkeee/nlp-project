{
 "metadata": {
  "language_info": {
   "codemirror_mode": {
    "name": "ipython",
    "version": 3
   },
   "file_extension": ".py",
   "mimetype": "text/x-python",
   "name": "python",
   "nbconvert_exporter": "python",
   "pygments_lexer": "ipython3",
   "version": "3.7.9"
  },
  "orig_nbformat": 2,
  "kernelspec": {
   "name": "python379jvsc74a57bd0e3e6299cafd859ebd092853d2ce219882ca666ebac67599b06b83cea9da9c5fd",
   "display_name": "Python 3.7.9 64-bit (conda)"
  }
 },
 "nbformat": 4,
 "nbformat_minor": 2,
 "cells": [
  {
   "cell_type": "code",
   "execution_count": 1,
   "metadata": {},
   "outputs": [],
   "source": [
    "import pandas as pd"
   ]
  },
  {
   "cell_type": "code",
   "execution_count": 23,
   "metadata": {},
   "outputs": [],
   "source": [
    "wt_df1 = pd.read_csv('NaverWebtoon_tue1.csv', encoding='cp949')\n",
    "wt_df1 = wt_df1.drop(['Unnamed: 0'], axis=1)\n",
    "wt_df2 = pd.read_csv('NaverWebtoon_tue2.csv', encoding='cp949')\n",
    "wt_df2 = wt_df2.drop(['Unnamed: 0'], axis=1)\n",
    "wt_df3 = pd.read_csv('NaverWebtoon_tue3.csv', encoding='cp949')\n",
    "wt_df3 = wt_df3.drop(['Unnamed: 0'], axis=1)\n",
    "wt_df4 = pd.read_csv('NaverWebtoon_tue4.csv', encoding='cp949')\n",
    "wt_df4 = wt_df4.drop(['Unnamed: 0'], axis=1)\n",
    "wt_df5 = pd.read_csv('NaverWebtoon_tue5.csv', encoding='cp949')\n",
    "wt_df5 = wt_df5.drop(['Unnamed: 0'], axis=1)\n",
    "wt_df6 = pd.read_csv('NaverWebtoon_tue6.csv', encoding='cp949')\n",
    "wt_df6 = wt_df6.drop(['Unnamed: 0'], axis=1)"
   ]
  },
  {
   "cell_type": "code",
   "execution_count": 24,
   "metadata": {},
   "outputs": [],
   "source": [
    "wt_df = pd.concat([wt_df1, wt_df2, wt_df3, wt_df4, wt_df5, wt_df6], axis=1)"
   ]
  },
  {
   "cell_type": "code",
   "execution_count": 26,
   "metadata": {},
   "outputs": [
    {
     "output_type": "stream",
     "name": "stdout",
     "text": [
      "<class 'pandas.core.frame.DataFrame'>\nRangeIndex: 5012 entries, 0 to 5011\nColumns: 144 entries, 여우자매 to 해피하우스\ndtypes: object(144)\nmemory usage: 5.5+ MB\n"
     ]
    }
   ],
   "source": [
    "wt_df.info()"
   ]
  },
  {
   "cell_type": "code",
   "execution_count": 12,
   "metadata": {},
   "outputs": [],
   "source": [
    "df = wt_df1[['여우자매', '싱글맘맘이야']]"
   ]
  },
  {
   "cell_type": "code",
   "execution_count": 13,
   "metadata": {},
   "outputs": [
    {
     "output_type": "execute_result",
     "data": {
      "text/plain": [
       "                           여우자매                                     싱글맘맘이야\n",
       "0                    rkddusl999                                    gimarie\n",
       "1                           9.9                                       9.92\n",
       "2       제발 네이버 잡아라 안잡으면 진짜 욕먹는다                     아오 진짜 결혼만안하면 이놈의 오지랖..\n",
       "3     아니 2022년6월이면 나는 어케살라는 거지?  잘보고 있어요~ 근데 대체 누가 별점테러하는겨!! 콱 그냥!!!!!! ??\n",
       "4                         무~야호~                      별점 테러 전남편 아님?ㅋㅋㅋㅋㅋㅋㅋㅋ\n",
       "...                         ...                                        ...\n",
       "5007                       올라옴♤                                        NaN\n",
       "5008                          오                                        NaN\n",
       "5009                          오                                        NaN\n",
       "5010                          오                                        NaN\n",
       "5011                       나왔다!                                        NaN\n",
       "\n",
       "[5012 rows x 2 columns]"
      ],
      "text/html": "<div>\n<style scoped>\n    .dataframe tbody tr th:only-of-type {\n        vertical-align: middle;\n    }\n\n    .dataframe tbody tr th {\n        vertical-align: top;\n    }\n\n    .dataframe thead th {\n        text-align: right;\n    }\n</style>\n<table border=\"1\" class=\"dataframe\">\n  <thead>\n    <tr style=\"text-align: right;\">\n      <th></th>\n      <th>여우자매</th>\n      <th>싱글맘맘이야</th>\n    </tr>\n  </thead>\n  <tbody>\n    <tr>\n      <th>0</th>\n      <td>rkddusl999</td>\n      <td>gimarie</td>\n    </tr>\n    <tr>\n      <th>1</th>\n      <td>9.9</td>\n      <td>9.92</td>\n    </tr>\n    <tr>\n      <th>2</th>\n      <td>제발 네이버 잡아라 안잡으면 진짜 욕먹는다</td>\n      <td>아오 진짜 결혼만안하면 이놈의 오지랖..</td>\n    </tr>\n    <tr>\n      <th>3</th>\n      <td>아니 2022년6월이면 나는 어케살라는 거지?</td>\n      <td>잘보고 있어요~ 근데 대체 누가 별점테러하는겨!! 콱 그냥!!!!!! ??</td>\n    </tr>\n    <tr>\n      <th>4</th>\n      <td>무~야호~</td>\n      <td>별점 테러 전남편 아님?ㅋㅋㅋㅋㅋㅋㅋㅋ</td>\n    </tr>\n    <tr>\n      <th>...</th>\n      <td>...</td>\n      <td>...</td>\n    </tr>\n    <tr>\n      <th>5007</th>\n      <td>올라옴♤</td>\n      <td>NaN</td>\n    </tr>\n    <tr>\n      <th>5008</th>\n      <td>오</td>\n      <td>NaN</td>\n    </tr>\n    <tr>\n      <th>5009</th>\n      <td>오</td>\n      <td>NaN</td>\n    </tr>\n    <tr>\n      <th>5010</th>\n      <td>오</td>\n      <td>NaN</td>\n    </tr>\n    <tr>\n      <th>5011</th>\n      <td>나왔다!</td>\n      <td>NaN</td>\n    </tr>\n  </tbody>\n</table>\n<p>5012 rows × 2 columns</p>\n</div>"
     },
     "metadata": {},
     "execution_count": 13
    }
   ],
   "source": [
    "df"
   ]
  },
  {
   "cell_type": "code",
   "execution_count": null,
   "metadata": {},
   "outputs": [],
   "source": []
  }
 ]
}
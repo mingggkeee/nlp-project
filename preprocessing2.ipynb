{
 "metadata": {
  "language_info": {
   "codemirror_mode": {
    "name": "ipython",
    "version": 3
   },
   "file_extension": ".py",
   "mimetype": "text/x-python",
   "name": "python",
   "nbconvert_exporter": "python",
   "pygments_lexer": "ipython3",
   "version": "3.7.9"
  },
  "orig_nbformat": 2,
  "kernelspec": {
   "name": "python379jvsc74a57bd0e3e6299cafd859ebd092853d2ce219882ca666ebac67599b06b83cea9da9c5fd",
   "display_name": "Python 3.7.9 64-bit (conda)"
  }
 },
 "nbformat": 4,
 "nbformat_minor": 2,
 "cells": [
  {
   "cell_type": "code",
   "execution_count": 1,
   "metadata": {},
   "outputs": [],
   "source": [
    "import pandas as pd"
   ]
  },
  {
   "cell_type": "code",
   "execution_count": 46,
   "metadata": {},
   "outputs": [],
   "source": [
    "wt_df1 = pd.read_csv('trash/NaverWebtoon_tue1.csv', encoding='cp949')\n",
    "wt_df1 = wt_df1.drop(['Unnamed: 0'], axis=1)\n",
    "wt_df1 = wt_df1.drop([0, 1], axis=0)\n",
    "wt_df2 = pd.read_csv('trash/NaverWebtoon_tue2.csv', encoding='cp949')\n",
    "wt_df2 = wt_df2.drop(['Unnamed: 0'], axis=1)\n",
    "wt_df2 = wt_df2.drop([0, 1], axis=0)\n",
    "wt_df3 = pd.read_csv('trash/NaverWebtoon_tue3.csv', encoding='cp949')\n",
    "wt_df3 = wt_df3.drop(['Unnamed: 0'], axis=1)\n",
    "wt_df3 = wt_df3.drop([0, 1], axis=0)\n",
    "wt_df4 = pd.read_csv('trash/NaverWebtoon_tue4.csv', encoding='cp949')\n",
    "wt_df4 = wt_df4.drop(['Unnamed: 0'], axis=1)\n",
    "wt_df4 = wt_df4.drop([0, 1], axis=0)\n",
    "wt_df5 = pd.read_csv('trash/NaverWebtoon_tue5.csv', encoding='cp949')\n",
    "wt_df5 = wt_df5.drop(['Unnamed: 0'], axis=1)\n",
    "wt_df5 = wt_df5.drop([0, 1], axis=0)\n",
    "wt_df6 = pd.read_csv('trash/NaverWebtoon_tue6.csv', encoding='cp949')\n",
    "wt_df6 = wt_df6.drop(['Unnamed: 0'], axis=1)\n",
    "wt_df6 = wt_df6.drop([0, 1], axis=0)"
   ]
  },
  {
   "cell_type": "code",
   "execution_count": 47,
   "metadata": {},
   "outputs": [],
   "source": [
    "wt_df = pd.concat([wt_df1, wt_df2, wt_df3, wt_df4, wt_df5, wt_df6], axis=1)"
   ]
  },
  {
   "cell_type": "code",
   "execution_count": 70,
   "metadata": {},
   "outputs": [],
   "source": [
    "wt_df = wt_df.reset_index(drop=True)"
   ]
  },
  {
   "cell_type": "code",
   "execution_count": 71,
   "metadata": {},
   "outputs": [],
   "source": [
    "wt_df.to_csv('webtoon_comments.csv', index=False, encoding='utf-8-sig')"
   ]
  },
  {
   "cell_type": "code",
   "execution_count": 72,
   "metadata": {},
   "outputs": [],
   "source": [
    "first_df = wt_df[['싱글맘맘이야', '여우자매', '대학원 탈출일지', '오사와 오폐수들', '저승파견고용직', '우리 카페 사장님이 이상하다', '괜찮아, 고3이야', '우리집 강아지는 복슬강아지', '지극히 평범한 생활', '아빠는 N살', '낮잠 자는 사람들', '깜빡깜빡', '루텔', '구나의 그랬구나', '아스테리스크', '아오링도쿄', '잔액이 부족합니다', '운명...인가요?', '발버둥치다', '국제결혼개그만화', '실험학교', '오늘을 담다.', '방구석수필', '좀비 패밀리', '(Old)악마법소녀', '서툴고 어리숙해도 좋아하는', '정령왕즈', '쿤도덥브라더스', '생각보다 잘 자랐습니다', '몬스터 커맨더F', '생존일지', '시크릿가족', '무엇이든 그려드립니닷!', '카나와 초나의 독일', '그래도 하루는', '죽음과 동화', '감각의 어빌러티', '천상대전', 'AI폰 아리랑', '채채쓰의 웃픈일기', '방에 콕! 진댕', '무존재감']]"
   ]
  },
  {
   "cell_type": "code",
   "execution_count": 73,
   "metadata": {},
   "outputs": [],
   "source": [
    "second_df = wt_df[['서폿저택에 어서오세요', '밤을 거둔 신기루는', '수영만화일기', '아틀레냐 비바체', '홈 스윗 홈', '뿅가이', '나랑노랑~이제는 괜찮은 이야기', '젤라 유니버스', '클리셰', '결혼하고 싶지 않았는데 못하게 되었다.', '86\\'d', '리드래프트', '틈', '산군대잔치', '행복을 찾다.', '김작가의 오춘기 그림일기', '포로롱 포롱', '우리 가 꿈', '올어바웃 You', '엑스프렌즈', '언니가 돌아왔다', '나는 마요 집사로소이다', '맹랑맘마 MEMORY', '오늘도 그래고래', '중간계 사우나', '러브 유어 시스터', '양송부부의 맛있는 한잔', '행복을 만드는 방법', '내 룸메이트는 마네킹', '죽 쑨 만화', '두꺼비집', '제제와 함께', '과학고 생존일지', '느린한끼', '나부활', '여긴 불빛이 안 드는 곳이야', '타챠노트', '사랑하는 제자들', '프라이머리 컬러', '생산직 툰', '눈치없는 내 친구!', '분노의 난임일기', '러브 햄츄얼리', '런어웨이', '만화 임진왜란', '오무라이스 프로젝트', '너구리네 육아일기', '이과지옥', 'LADS\\'PARTY', '미친 꽃은 답도 없다', '소라비의 잡화점']]"
   ]
  },
  {
   "cell_type": "code",
   "execution_count": 74,
   "metadata": {},
   "outputs": [],
   "source": [
    "third_df = wt_df[['사는 게 이게 모양?!', '빨간 고백', '위닝샷!', '집순이에 대하여', '자작 보드게임 동아리', '500원 토끼', '솔의 일기', '이래봬도2학년', '대공녀는 거기에 없었다', '범고래아가씨', '77년생, 열아홉', '두남자일기', '여기서 한잔할래?', '좋아하는거 참으면 병나요!', '딴 짓이 제일 재밌어', '스토커의 하루', '띵동! 도토리에요', '마이데이', '판타지 TV', '만월에 핀 연꽃', '전지적덕후시점', '너와 나의 하늘색', '너와 가까워지는 거리', '어둠의 일상툰', '하이스쿨 콤플렉스(마이동풍)', '함께 할 때까지', '이세계 국밥 마스터', '우당탕 입큰이', '좀비랜드', '내 매력에 퐁당', '나타나주세요!', '하루의 하늘', '한 뼘 공포집', '해피하우스', '살인교사', '템플러', '직업 : 며느리', '뼈와 재, 불의 이야기', '남편 먹는 여자', '너와 나의 몰디브', '체리 블러드', '모두의 미아씨', '158동 진상부부', '공원여행', '살인범과 산다', '애포칼립스', '미신반신', '의대생 하루', '하나리즈', '식봉툰', '국밥소녀']]"
   ]
  },
  {
   "cell_type": "code",
   "execution_count": 75,
   "metadata": {},
   "outputs": [],
   "source": [
    "first_df.to_csv('1st_comments.csv', index=False, encoding='utf-8-sig')\n",
    "second_df.to_csv('2nd_comments.csv', index=False, encoding='utf-8-sig')\n",
    "third_df.to_csv('3rd_comments.csv', index=False, encoding='utf-8-sig')"
   ]
  },
  {
   "cell_type": "code",
   "execution_count": 76,
   "metadata": {},
   "outputs": [
    {
     "output_type": "stream",
     "name": "stdout",
     "text": [
      "<class 'pandas.core.frame.DataFrame'>\nRangeIndex: 5010 entries, 0 to 5009\nData columns (total 42 columns):\n #   Column           Non-Null Count  Dtype \n---  ------           --------------  ----- \n 0   싱글맘맘이야           504 non-null    object\n 1   여우자매             5010 non-null   object\n 2   대학원 탈출일지         916 non-null    object\n 3   오사와 오폐수들         740 non-null    object\n 4   저승파견고용직          1025 non-null   object\n 5   우리 카페 사장님이 이상하다  233 non-null    object\n 6   괜찮아, 고3이야        1588 non-null   object\n 7   우리집 강아지는 복슬강아지   412 non-null    object\n 8   지극히 평범한 생활       200 non-null    object\n 9   아빠는 N살           253 non-null    object\n 10  낮잠 자는 사람들        665 non-null    object\n 11  깜빡깜빡             904 non-null    object\n 12  루텔               1903 non-null   object\n 13  구나의 그랬구나         744 non-null    object\n 14  아스테리스크           808 non-null    object\n 15  아오링도쿄            477 non-null    object\n 16  잔액이 부족합니다        433 non-null    object\n 17  운명...인가요?        887 non-null    object\n 18  발버둥치다            1497 non-null   object\n 19  국제결혼개그만화         679 non-null    object\n 20  실험학교             1360 non-null   object\n 21  오늘을 담다.          650 non-null    object\n 22  방구석수필            613 non-null    object\n 23  좀비 패밀리           471 non-null    object\n 24  (Old)악마법소녀       2464 non-null   object\n 25  서툴고 어리숙해도 좋아하는   400 non-null    object\n 26  정령왕즈             1124 non-null   object\n 27  쿤도덥브라더스          345 non-null    object\n 28  생각보다 잘 자랐습니다     357 non-null    object\n 29  몬스터 커맨더F         1037 non-null   object\n 30  생존일지             601 non-null    object\n 31  시크릿가족            717 non-null    object\n 32  무엇이든 그려드립니닷!     955 non-null    object\n 33  카나와 초나의 독일       451 non-null    object\n 34  그래도 하루는          474 non-null    object\n 35  죽음과 동화           714 non-null    object\n 36  감각의 어빌러티         353 non-null    object\n 37  천상대전             1265 non-null   object\n 38  AI폰 아리랑          434 non-null    object\n 39  채채쓰의 웃픈일기        379 non-null    object\n 40  방에 콕! 진댕         241 non-null    object\n 41  무존재감             234 non-null    object\ndtypes: object(42)\nmemory usage: 1.6+ MB\n"
     ]
    }
   ],
   "source": [
    "first_df.info()"
   ]
  },
  {
   "cell_type": "code",
   "execution_count": null,
   "metadata": {},
   "outputs": [],
   "source": []
  }
 ]
}
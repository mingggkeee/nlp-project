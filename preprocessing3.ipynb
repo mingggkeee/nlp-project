{
 "metadata": {
  "language_info": {
   "codemirror_mode": {
    "name": "ipython",
    "version": 3
   },
   "file_extension": ".py",
   "mimetype": "text/x-python",
   "name": "python",
   "nbconvert_exporter": "python",
   "pygments_lexer": "ipython3",
   "version": "3.7.10"
  },
  "orig_nbformat": 2,
  "kernelspec": {
   "name": "python3710jvsc74a57bd06ba75201ffc980e63fafb5fcc34cd5fa109d6a791497ca89853d5cb86fd40001",
   "display_name": "Python 3.7.10 64-bit ('ssac': conda)"
  }
 },
 "nbformat": 4,
 "nbformat_minor": 2,
 "cells": [
  {
   "cell_type": "code",
   "execution_count": 1,
   "metadata": {},
   "outputs": [],
   "source": [
    "import pandas as pd "
   ]
  },
  {
   "cell_type": "code",
   "execution_count": 52,
   "metadata": {},
   "outputs": [],
   "source": [
    "def extract_number1(data):\n",
    "    data2 = data.split(' ')\n",
    "    number = data2[1][:-3]\n",
    "    return int(number)\n",
    "\n",
    "def extract_number2(data):\n",
    "    number = data[2:-2].replace(',', '')\n",
    "    return int(number)\n",
    "\n",
    "def extract_str(data):\n",
    "    string = data[1:-1]\n",
    "    return string"
   ]
  },
  {
   "cell_type": "code",
   "execution_count": 89,
   "metadata": {},
   "outputs": [],
   "source": [
    "thr_df1 = pd.read_csv('정식웹툰/금요일-고래별.csv')\n",
    "\n",
    "thr_df1['참여자수'] = thr_df1['참여자수'].map(lambda data: extract_number1(data))\n",
    "thr_df1['댓글수'] = thr_df1['댓글수'].map(lambda data: extract_number2(data))\n",
    "thr_df1['댓글'] = thr_df1['댓글'].map(lambda data: extract_str(data))\n",
    "\n",
    "thr_df1.to_csv('정식웹툰/금요일-고래별.csv', index=False, encoding='utf-8-sig')"
   ]
  },
  {
   "cell_type": "code",
   "execution_count": 101,
   "metadata": {},
   "outputs": [],
   "source": [
    "wt_list=['목요일-연애혁명', '목요일-롤랑롤랑', '금요일-고래별', '금요일-외모지상주의', '수요일-고수', '수요일-귀곡의문', '월요일-뷰티풀군바리', '월요일-유일무이로맨스', '일요일-싸움독학', '일요일-이번생도잘부탁해', '토요일-어글리후드', '토요일-호랑이형님', '화요일-숲속의담', '화요일-여신강림']"
   ]
  },
  {
   "cell_type": "code",
   "execution_count": 102,
   "metadata": {},
   "outputs": [],
   "source": [
    "total_df = pd.DataFrame()"
   ]
  },
  {
   "cell_type": "code",
   "execution_count": 103,
   "metadata": {},
   "outputs": [
    {
     "output_type": "stream",
     "name": "stdout",
     "text": [
      "목요일-연애혁명\n목요일-롤랑롤랑\n금요일-고래별\n금요일-외모지상주의\n수요일-고수\n수요일-귀곡의문\n월요일-뷰티풀군바리\n월요일-유일무이로맨스\n일요일-싸움독학\n일요일-이번생도잘부탁해\n토요일-어글리후드\n토요일-호랑이형님\n화요일-숲속의담\n화요일-여신강림\n"
     ]
    }
   ],
   "source": [
    "for j in wt_list:\n",
    "    print(j)\n",
    "    df = pd.read_csv('정식웹툰/{}.csv'.format(j))\n",
    "    df.drop(columns=['참여자수', '댓글수'], axis=1, inplace=True)\n",
    "    total_df['{}'.format(j)] = df['댓글']"
   ]
  },
  {
   "cell_type": "code",
   "execution_count": 105,
   "metadata": {},
   "outputs": [],
   "source": [
    "total_df.to_csv('정식웹툰-댓글통합.csv', index=False, encoding='utf-8-sig')"
   ]
  },
  {
   "cell_type": "code",
   "execution_count": null,
   "metadata": {},
   "outputs": [],
   "source": []
  }
 ]
}